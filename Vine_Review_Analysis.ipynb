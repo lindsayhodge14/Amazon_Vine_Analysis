{
  "nbformat": 4,
  "nbformat_minor": 0,
  "metadata": {
    "colab": {
      "name": "Vine_Review_Analysis.ipynb",
      "provenance": [],
      "authorship_tag": "ABX9TyMywBwx2rNNP8kz22UT8VKN",
      "include_colab_link": true
    },
    "kernelspec": {
      "name": "python3",
      "display_name": "Python 3"
    },
    "language_info": {
      "name": "python"
    }
  },
  "cells": [
    {
      "cell_type": "markdown",
      "metadata": {
        "id": "view-in-github",
        "colab_type": "text"
      },
      "source": [
        "<a href=\"https://colab.research.google.com/github/lindsayhodge14/Amazon_Vine_Analysis/blob/main/Vine_Review_Analysis.ipynb\" target=\"_parent\"><img src=\"https://colab.research.google.com/assets/colab-badge.svg\" alt=\"Open In Colab\"/></a>"
      ]
    },
    {
      "cell_type": "code",
      "execution_count": 1,
      "metadata": {
        "colab": {
          "base_uri": "https://localhost:8080/"
        },
        "id": "xH3bJOi_T0M8",
        "outputId": "dc636a03-35b4-41e6-f444-27673147ba2d"
      },
      "outputs": [
        {
          "output_type": "stream",
          "name": "stdout",
          "text": [
            "\r0% [Working]\r            \rGet:1 https://cloud.r-project.org/bin/linux/ubuntu bionic-cran40/ InRelease [3,626 B]\n",
            "\r0% [Connecting to archive.ubuntu.com (185.125.190.36)] [Connecting to security.\r0% [Connecting to archive.ubuntu.com (185.125.190.36)] [Connecting to security.\r0% [1 InRelease gpgv 3,626 B] [Connecting to archive.ubuntu.com (185.125.190.36\r                                                                               \rIgn:2 https://developer.download.nvidia.com/compute/machine-learning/repos/ubuntu1804/x86_64  InRelease\n",
            "\r0% [1 InRelease gpgv 3,626 B] [Connecting to archive.ubuntu.com (185.125.190.36\r                                                                               \rGet:3 https://developer.download.nvidia.com/compute/cuda/repos/ubuntu1804/x86_64  InRelease [1,581 B]\n",
            "\r0% [1 InRelease gpgv 3,626 B] [Connecting to archive.ubuntu.com (185.125.190.36\r0% [1 InRelease gpgv 3,626 B] [Connecting to archive.ubuntu.com (185.125.190.36\r                                                                               \rGet:4 http://security.ubuntu.com/ubuntu bionic-security InRelease [88.7 kB]\n",
            "Hit:5 https://developer.download.nvidia.com/compute/machine-learning/repos/ubuntu1804/x86_64  Release\n",
            "Hit:6 http://archive.ubuntu.com/ubuntu bionic InRelease\n",
            "Get:7 https://cloud.r-project.org/bin/linux/ubuntu bionic-cran40/ Packages [90.7 kB]\n",
            "Get:8 http://archive.ubuntu.com/ubuntu bionic-updates InRelease [88.7 kB]\n",
            "Get:9 http://ppa.launchpad.net/c2d4u.team/c2d4u4.0+/ubuntu bionic InRelease [15.9 kB]\n",
            "Get:10 https://developer.download.nvidia.com/compute/cuda/repos/ubuntu1804/x86_64  Packages [903 kB]\n",
            "Hit:11 http://ppa.launchpad.net/cran/libgit2/ubuntu bionic InRelease\n",
            "Get:13 http://archive.ubuntu.com/ubuntu bionic-backports InRelease [74.6 kB]\n",
            "Get:14 http://ppa.launchpad.net/deadsnakes/ppa/ubuntu bionic InRelease [15.9 kB]\n",
            "Get:15 http://security.ubuntu.com/ubuntu bionic-security/universe amd64 Packages [1,533 kB]\n",
            "Get:16 http://ppa.launchpad.net/graphics-drivers/ppa/ubuntu bionic InRelease [21.3 kB]\n",
            "Get:17 http://security.ubuntu.com/ubuntu bionic-security/restricted amd64 Packages [1,100 kB]\n",
            "Get:18 http://security.ubuntu.com/ubuntu bionic-security/main amd64 Packages [2,937 kB]\n",
            "Get:19 http://ppa.launchpad.net/c2d4u.team/c2d4u4.0+/ubuntu bionic/main Sources [2,084 kB]\n",
            "Get:20 http://archive.ubuntu.com/ubuntu bionic-updates/universe amd64 Packages [2,310 kB]\n",
            "Get:21 http://ppa.launchpad.net/c2d4u.team/c2d4u4.0+/ubuntu bionic/main amd64 Packages [1,067 kB]\n",
            "Get:22 http://archive.ubuntu.com/ubuntu bionic-updates/restricted amd64 Packages [1,141 kB]\n",
            "Get:23 http://archive.ubuntu.com/ubuntu bionic-updates/main amd64 Packages [3,369 kB]\n",
            "Get:24 http://ppa.launchpad.net/deadsnakes/ppa/ubuntu bionic/main amd64 Packages [45.3 kB]\n",
            "Get:25 http://ppa.launchpad.net/graphics-drivers/ppa/ubuntu bionic/main amd64 Packages [47.7 kB]\n",
            "Fetched 16.9 MB in 7s (2,547 kB/s)\n",
            "Reading package lists... Done\n"
          ]
        }
      ],
      "source": [
        "import os\n",
        "# Find the latest version of spark 3.0  from http://www.apache.org/dist/spark/ and enter as the spark version\n",
        "# For example:\n",
        "# spark_version = 'spark-3.0.3'\n",
        "spark_version = 'spark-3.2.2'\n",
        "os.environ['SPARK_VERSION']=spark_version\n",
        "\n",
        "# Install Spark and Java\n",
        "!apt-get update\n",
        "!apt-get install openjdk-11-jdk-headless -qq > /dev/null\n",
        "!wget -q http://www.apache.org/dist/spark/$SPARK_VERSION/$SPARK_VERSION-bin-hadoop2.7.tgz\n",
        "!tar xf $SPARK_VERSION-bin-hadoop2.7.tgz\n",
        "!pip install -q findspark\n",
        "\n",
        "# Set Environment Variables\n",
        "import os\n",
        "os.environ[\"JAVA_HOME\"] = \"/usr/lib/jvm/java-11-openjdk-amd64\"\n",
        "os.environ[\"SPARK_HOME\"] = f\"/content/{spark_version}-bin-hadoop2.7\"\n",
        "\n",
        "# Start a SparkSession\n",
        "import findspark\n",
        "findspark.init()"
      ]
    },
    {
      "cell_type": "code",
      "metadata": {
        "id": "_xKwTpATHqSe",
        "colab": {
          "base_uri": "https://localhost:8080/"
        },
        "outputId": "942ce7d4-e143-4f51-91b6-df1301db4e76"
      },
      "source": [
        "# Download the Postgres driver that will allow Spark to interact with Postgres.\n",
        "!wget https://jdbc.postgresql.org/download/postgresql-42.2.16.jar"
      ],
      "execution_count": 2,
      "outputs": [
        {
          "output_type": "stream",
          "name": "stdout",
          "text": [
            "--2022-08-15 03:30:26--  https://jdbc.postgresql.org/download/postgresql-42.2.16.jar\n",
            "Resolving jdbc.postgresql.org (jdbc.postgresql.org)... 72.32.157.228, 2001:4800:3e1:1::228\n",
            "Connecting to jdbc.postgresql.org (jdbc.postgresql.org)|72.32.157.228|:443... connected.\n",
            "HTTP request sent, awaiting response... 200 OK\n",
            "Length: 1002883 (979K) [application/java-archive]\n",
            "Saving to: ‘postgresql-42.2.16.jar’\n",
            "\n",
            "postgresql-42.2.16. 100%[===================>] 979.38K  4.93MB/s    in 0.2s    \n",
            "\n",
            "2022-08-15 03:30:27 (4.93 MB/s) - ‘postgresql-42.2.16.jar’ saved [1002883/1002883]\n",
            "\n"
          ]
        }
      ]
    },
    {
      "cell_type": "code",
      "metadata": {
        "id": "MMqDAjVS0KN9"
      },
      "source": [
        "from pyspark.sql import SparkSession\n",
        "spark = SparkSession.builder.appName(\"M16-Amazon-Challenge\").config(\"spark.driver.extraClassPath\",\"/content/postgresql-42.2.16.jar\").getOrCreate()"
      ],
      "execution_count": 3,
      "outputs": []
    },
    {
      "cell_type": "code",
      "metadata": {
        "id": "CtCmBhQJY-9Z",
        "colab": {
          "base_uri": "https://localhost:8080/"
        },
        "outputId": "03930f02-c4fd-4538-9ae2-13a64cf69aa9"
      },
      "source": [
        "from pyspark import SparkFiles\n",
        "url = \"https://s3.amazonaws.com/amazon-reviews-pds/tsv/amazon_reviews_us_Pet_Products_v1_00.tsv.gz\"\n",
        "spark.sparkContext.addFile(url)\n",
        "df = spark.read.option(\"encoding\", \"UTF-8\").csv(SparkFiles.get(\"amazon_reviews_us_Pet_Products_v1_00.tsv.gz\"), sep=\"\\t\", header=True, inferSchema=True)\n",
        "df.show()"
      ],
      "execution_count": 5,
      "outputs": [
        {
          "output_type": "stream",
          "name": "stdout",
          "text": [
            "+-----------+-----------+--------------+----------+--------------+--------------------+----------------+-----------+-------------+-----------+----+-----------------+--------------------+--------------------+-----------+\n",
            "|marketplace|customer_id|     review_id|product_id|product_parent|       product_title|product_category|star_rating|helpful_votes|total_votes|vine|verified_purchase|     review_headline|         review_body|review_date|\n",
            "+-----------+-----------+--------------+----------+--------------+--------------------+----------------+-----------+-------------+-----------+----+-----------------+--------------------+--------------------+-----------+\n",
            "|         US|   28794885| REAKC26P07MDN|B00Q0K9604|     510387886|(8-Pack) EZwhelp ...|    Pet Products|          5|            0|          0|   N|                Y|A great purchase ...|Best belly bands ...| 2015-08-31|\n",
            "|         US|   11488901|R3NU7OMZ4HQIEG|B00MBW5O9W|     912374672|Warren Eckstein's...|    Pet Products|          2|            0|          1|   N|                Y|My dogs love Hugs...|My dogs love Hugs...| 2015-08-31|\n",
            "|         US|   43214993|R14QJW3XF8QO1P|B0084OHUIO|     902215727|Tyson's True Chew...|    Pet Products|          5|            0|          0|   N|                Y|I have been purch...|I have been purch...| 2015-08-31|\n",
            "|         US|   12835065|R2HB7AX0394ZGY|B001GS71K2|     568880110|Soft Side Pet Cra...|    Pet Products|          5|            0|          0|   N|                Y|it is easy to ope...|It is extremely w...| 2015-08-31|\n",
            "|         US|   26334022| RGKMPDQGSAHR3|B004ABH1LG|     692846826|EliteField 3-Door...|    Pet Products|          5|            0|          0|   N|                Y|           Dog crate|Worked really wel...| 2015-08-31|\n",
            "|         US|   22283621|R1DJCVPQGCV66E|B00AX0LFM4|     590674141|Carlson 68-Inch W...|    Pet Products|          5|            0|          0|   N|                Y|          Five Stars|I love my gates! ...| 2015-08-31|\n",
            "|         US|   14469895|R3V52EAWLPBFQG|B00DQFZGZ0|     688538603|Dog Seat Cover Wi...|    Pet Products|          3|            0|          0|   N|                Y|Seat belt tugs on...|Didn't quite work...| 2015-08-31|\n",
            "|         US|   50896354|R3DKO8J1J28QBI|B00DIRF9US|     742358789|The Bird Catcher ...|    Pet Products|          2|            0|          0|   N|                Y|Great Pole, but S...|I had the origina...| 2015-08-31|\n",
            "|         US|   18440567| R764DBXGRNECG|B00JRCBFUG|     869798483|Cat Bed - Purrfec...|    Pet Products|          5|            1|          1|   N|                N|     My cat loves it|The pad is very s...| 2015-08-31|\n",
            "|         US|   50502362| RW1853GAT0Z9F|B000L3XYZ4|     501118658|PetSafe Drinkwell...|    Pet Products|          5|            0|          0|   N|                Y|          Five Stars|My cat drinks mor...| 2015-08-31|\n",
            "|         US|   33930128|R33GITXNUF1AD4|B00BOEXWFG|     454737777|Contech ZenDog Ca...|    Pet Products|          2|            0|          0|   N|                Y|Also had to pull ...|Much smaller than...| 2015-08-31|\n",
            "|         US|   43534290|R1H7AVM81TAYRV|B001HBBQKY|     420905252|Wellness Crunchy ...|    Pet Products|          1|            2|          2|   N|                Y|DO NOT PURCHASE -...|I used to love th...| 2015-08-31|\n",
            "|         US|   45555864|R2ZOYAQZNNZZWV|B007O1FHB0|     302588963|Rx Vitamins Essen...|    Pet Products|          5|            0|          0|   N|                Y|          Five Stars|Recommended by my...| 2015-08-31|\n",
            "|         US|   11147406|R2FN1H3CGW6J8H|B001P3NU30|     525778264|Virbac C.E.T. Enz...|    Pet Products|          1|            0|          0|   N|                Y|Received wrong pr...|Yes I  ordered fo...| 2015-08-31|\n",
            "|         US|    6495678| RJB41Q575XNG4|B00ZP6HS6S|     414117299|Kitty Shack - 2 i...|    Pet Products|          5|            0|          3|   N|                Y|          Five Stars|      It falls apart| 2015-08-31|\n",
            "|         US|    2019416|R28W8BM1587CPF|B00IP05CUA|     833937853|Wellness Kittles ...|    Pet Products|          5|            0|          0|   N|                Y|kitty is ravenous...|My cat really lov...| 2015-08-31|\n",
            "|         US|   40459386|R1II0M01NIG293|B001U8Y598|      85343577|OmniPet Anti-Ant ...|    Pet Products|          2|            0|          0|   N|                N|Maybe other speci...|This bowl is not ...| 2015-08-31|\n",
            "|         US|   23126800| RMB8N0DBRH34O|B011AY4JWO|     499241195|K9KONNECTION [New...|    Pet Products|          5|            1|          1|   N|                Y|This works, dog n...|I have a small do...| 2015-08-31|\n",
            "|         US|   30238476|R24WB6A6WVIPU6|B00DDSHE5A|     409532388|SUNSEED COMPANY 3...|    Pet Products|          5|            0|          0|   N|                Y|    Yummy for Bunny!|Bunny loves it! E...| 2015-08-31|\n",
            "|         US|   35113999| ROCJSH0P9YSRW|B00PJW5OR8|     259271919|CXB1983(TM)Cute P...|    Pet Products|          5|            0|          0|   N|                Y|excellent price, ...|Petfect,,quality ...| 2015-08-31|\n",
            "+-----------+-----------+--------------+----------+--------------+--------------------+----------------+-----------+-------------+-----------+----+-----------------+--------------------+--------------------+-----------+\n",
            "only showing top 20 rows\n",
            "\n"
          ]
        }
      ]
    },
    {
      "cell_type": "code",
      "metadata": {
        "id": "lzMmkdKmY--D",
        "colab": {
          "base_uri": "https://localhost:8080/"
        },
        "outputId": "6374382a-922c-41b3-afd2-d5a6572a0465"
      },
      "source": [
        "# Create the vine_table. DataFrame\n",
        "vine_df = df.select([\"review_id\",\"star_rating\",\"helpful_votes\",\"total_votes\",\"vine\",\"verified_purchase\"])\n",
        "vine_df.show()"
      ],
      "execution_count": 6,
      "outputs": [
        {
          "output_type": "stream",
          "name": "stdout",
          "text": [
            "+--------------+-----------+-------------+-----------+----+-----------------+\n",
            "|     review_id|star_rating|helpful_votes|total_votes|vine|verified_purchase|\n",
            "+--------------+-----------+-------------+-----------+----+-----------------+\n",
            "| REAKC26P07MDN|          5|            0|          0|   N|                Y|\n",
            "|R3NU7OMZ4HQIEG|          2|            0|          1|   N|                Y|\n",
            "|R14QJW3XF8QO1P|          5|            0|          0|   N|                Y|\n",
            "|R2HB7AX0394ZGY|          5|            0|          0|   N|                Y|\n",
            "| RGKMPDQGSAHR3|          5|            0|          0|   N|                Y|\n",
            "|R1DJCVPQGCV66E|          5|            0|          0|   N|                Y|\n",
            "|R3V52EAWLPBFQG|          3|            0|          0|   N|                Y|\n",
            "|R3DKO8J1J28QBI|          2|            0|          0|   N|                Y|\n",
            "| R764DBXGRNECG|          5|            1|          1|   N|                N|\n",
            "| RW1853GAT0Z9F|          5|            0|          0|   N|                Y|\n",
            "|R33GITXNUF1AD4|          2|            0|          0|   N|                Y|\n",
            "|R1H7AVM81TAYRV|          1|            2|          2|   N|                Y|\n",
            "|R2ZOYAQZNNZZWV|          5|            0|          0|   N|                Y|\n",
            "|R2FN1H3CGW6J8H|          1|            0|          0|   N|                Y|\n",
            "| RJB41Q575XNG4|          5|            0|          3|   N|                Y|\n",
            "|R28W8BM1587CPF|          5|            0|          0|   N|                Y|\n",
            "|R1II0M01NIG293|          2|            0|          0|   N|                N|\n",
            "| RMB8N0DBRH34O|          5|            1|          1|   N|                Y|\n",
            "|R24WB6A6WVIPU6|          5|            0|          0|   N|                Y|\n",
            "| ROCJSH0P9YSRW|          5|            0|          0|   N|                Y|\n",
            "+--------------+-----------+-------------+-----------+----+-----------------+\n",
            "only showing top 20 rows\n",
            "\n"
          ]
        }
      ]
    },
    {
      "cell_type": "markdown",
      "source": [
        "*Deliverable 2*"
      ],
      "metadata": {
        "id": "H9NCNjJxkhYc"
      }
    },
    {
      "cell_type": "code",
      "source": [
        "# Step 1\n",
        "from pyspark.sql.functions import col\n",
        "total_votes_df = vine_df.filter(col(\"total_votes\") >= 20)\n",
        "total_votes_df.show()\n",
        "print(\"Total number of reviews for Pet Products with >=20 reviews:\", total_votes_df.count())"
      ],
      "metadata": {
        "colab": {
          "base_uri": "https://localhost:8080/"
        },
        "id": "yCBm4QUgkdrE",
        "outputId": "4514796e-dcbc-42b2-8c58-00133e9a1777"
      },
      "execution_count": 27,
      "outputs": [
        {
          "output_type": "stream",
          "name": "stdout",
          "text": [
            "+--------------+-----------+-------------+-----------+----+-----------------+\n",
            "|     review_id|star_rating|helpful_votes|total_votes|vine|verified_purchase|\n",
            "+--------------+-----------+-------------+-----------+----+-----------------+\n",
            "|R21KC552Y6HL8X|          1|           27|         31|   N|                Y|\n",
            "| RX9WC9FTIR1XR|          5|           25|         25|   N|                Y|\n",
            "| RGDCOU1KBHMNG|          3|           29|         31|   N|                Y|\n",
            "| RVTYWID2TPMMY|          2|           35|         42|   N|                Y|\n",
            "|R2CMPZ5VESGRLY|          4|           27|         28|   N|                Y|\n",
            "|R3VQPJZ54B55BA|          5|           62|         64|   N|                N|\n",
            "|R24QM6D7FEDZ5M|          2|           36|         43|   N|                Y|\n",
            "|R3A1VQ3SQDXEJ3|          5|           20|         20|   N|                Y|\n",
            "|  R39GSNW76GYF|          1|           20|         23|   N|                Y|\n",
            "| RPJLR6MFDPXXE|          5|           35|         36|   N|                Y|\n",
            "|R34X0ZGVB3YGYO|          5|           47|         47|   N|                Y|\n",
            "|R2C9O1BOV14Q0Z|          1|           62|         79|   N|                Y|\n",
            "| RM6ZH5J3XDNHK|          5|           79|         87|   N|                Y|\n",
            "|R2E363K75EMW4K|          5|           66|         69|   N|                Y|\n",
            "|R2VJII8VKSJHDF|          1|           24|         29|   N|                N|\n",
            "|R2U35Y2P27M13E|          1|           43|         45|   N|                Y|\n",
            "| RLMZOQL11VHBX|          5|           23|         24|   N|                Y|\n",
            "|R3C6CQQRRA8SYP|          5|           52|         58|   N|                Y|\n",
            "|R3T7YOX0AEDZL3|          1|           45|         47|   N|                N|\n",
            "|R176V3AYS3R4HG|          5|           26|         27|   N|                N|\n",
            "+--------------+-----------+-------------+-----------+----+-----------------+\n",
            "only showing top 20 rows\n",
            "\n",
            "Total number of reviews for Pet Products with >=20 reviews: 39376\n"
          ]
        }
      ]
    },
    {
      "cell_type": "code",
      "source": [
        "#Step 2\n",
        "majority_helpful_votes_df = total_votes_df.withColumn('percent_helpful_votes',col('helpful_votes')/col('total_votes')).alias('percent_helful_votes').filter(col(\"percent_helpful_votes\") >= 0.5)\n",
        "majority_helpful_votes_df.show()\n"
      ],
      "metadata": {
        "colab": {
          "base_uri": "https://localhost:8080/"
        },
        "id": "TRXkgG3kmXri",
        "outputId": "97ddeadc-2753-4845-d3c5-aa26a4421c0d"
      },
      "execution_count": 9,
      "outputs": [
        {
          "output_type": "stream",
          "name": "stdout",
          "text": [
            "+--------------+-----------+-------------+-----------+----+-----------------+---------------------+\n",
            "|     review_id|star_rating|helpful_votes|total_votes|vine|verified_purchase|percent_helpful_votes|\n",
            "+--------------+-----------+-------------+-----------+----+-----------------+---------------------+\n",
            "|R21KC552Y6HL8X|          1|           27|         31|   N|                Y|   0.8709677419354839|\n",
            "| RX9WC9FTIR1XR|          5|           25|         25|   N|                Y|                  1.0|\n",
            "| RGDCOU1KBHMNG|          3|           29|         31|   N|                Y|   0.9354838709677419|\n",
            "| RVTYWID2TPMMY|          2|           35|         42|   N|                Y|   0.8333333333333334|\n",
            "|R2CMPZ5VESGRLY|          4|           27|         28|   N|                Y|   0.9642857142857143|\n",
            "|R3VQPJZ54B55BA|          5|           62|         64|   N|                N|              0.96875|\n",
            "|R24QM6D7FEDZ5M|          2|           36|         43|   N|                Y|   0.8372093023255814|\n",
            "|R3A1VQ3SQDXEJ3|          5|           20|         20|   N|                Y|                  1.0|\n",
            "|  R39GSNW76GYF|          1|           20|         23|   N|                Y|   0.8695652173913043|\n",
            "| RPJLR6MFDPXXE|          5|           35|         36|   N|                Y|   0.9722222222222222|\n",
            "|R34X0ZGVB3YGYO|          5|           47|         47|   N|                Y|                  1.0|\n",
            "|R2C9O1BOV14Q0Z|          1|           62|         79|   N|                Y|   0.7848101265822784|\n",
            "| RM6ZH5J3XDNHK|          5|           79|         87|   N|                Y|   0.9080459770114943|\n",
            "|R2E363K75EMW4K|          5|           66|         69|   N|                Y|   0.9565217391304348|\n",
            "|R2VJII8VKSJHDF|          1|           24|         29|   N|                N|   0.8275862068965517|\n",
            "|R2U35Y2P27M13E|          1|           43|         45|   N|                Y|   0.9555555555555556|\n",
            "| RLMZOQL11VHBX|          5|           23|         24|   N|                Y|   0.9583333333333334|\n",
            "|R3C6CQQRRA8SYP|          5|           52|         58|   N|                Y|    0.896551724137931|\n",
            "|R3T7YOX0AEDZL3|          1|           45|         47|   N|                N|   0.9574468085106383|\n",
            "|R176V3AYS3R4HG|          5|           26|         27|   N|                N|   0.9629629629629629|\n",
            "+--------------+-----------+-------------+-----------+----+-----------------+---------------------+\n",
            "only showing top 20 rows\n",
            "\n"
          ]
        }
      ]
    },
    {
      "cell_type": "code",
      "source": [
        "#Step 3\n",
        "vine_participant_df = majority_helpful_votes_df.filter(col(\"vine\") >= 'Y')\n",
        "vine_participant_df.show()\n",
        "print(\"Total number of vine participants for Pet Products with >=20 reviews:\", vine_participant_df.count())"
      ],
      "metadata": {
        "colab": {
          "base_uri": "https://localhost:8080/"
        },
        "id": "OYF6oDF7oURK",
        "outputId": "0ad509bc-3c4b-4f38-fb64-be6da6fa93c9"
      },
      "execution_count": 28,
      "outputs": [
        {
          "output_type": "stream",
          "name": "stdout",
          "text": [
            "+--------------+-----------+-------------+-----------+----+-----------------+---------------------+\n",
            "|     review_id|star_rating|helpful_votes|total_votes|vine|verified_purchase|percent_helpful_votes|\n",
            "+--------------+-----------+-------------+-----------+----+-----------------+---------------------+\n",
            "|R3A71VR1JZD8WF|          2|           27|         30|   Y|                N|                  0.9|\n",
            "|R16OMUJIGI18JZ|          5|           72|         72|   Y|                N|                  1.0|\n",
            "|R3TS8ZP2FHQ9XR|          5|           39|         42|   Y|                N|   0.9285714285714286|\n",
            "|R2MHP919VZN7DI|          5|           29|         30|   Y|                N|   0.9666666666666667|\n",
            "| RD2BCTVS59A5L|          2|           20|         20|   Y|                N|                  1.0|\n",
            "|R1JUJLXQ2CMWKF|          4|           25|         26|   Y|                N|   0.9615384615384616|\n",
            "|R2T7YE0IFI6N9L|          3|           24|         25|   Y|                N|                 0.96|\n",
            "|R25FI3J7WWOYXM|          3|           55|         58|   Y|                N|   0.9482758620689655|\n",
            "|R3P3U4EOWIUD50|          3|           27|         36|   Y|                N|                 0.75|\n",
            "|R3C7MKX7MO6XUC|          5|          216|        219|   Y|                N|   0.9863013698630136|\n",
            "|R1DFDDK1ZWKN3D|          2|           61|         65|   Y|                N|   0.9384615384615385|\n",
            "|R38G7BRBA2LGGV|          3|           47|         54|   Y|                N|   0.8703703703703703|\n",
            "|R2XQXWNEBSB9WO|          4|           52|         56|   Y|                N|   0.9285714285714286|\n",
            "|R1UFK241B2KN48|          4|          375|        378|   Y|                N|   0.9920634920634921|\n",
            "|R3H9CGK58BVHI5|          4|           42|         46|   Y|                N|   0.9130434782608695|\n",
            "|R3FKBT77ZTUPLQ|          5|           15|         20|   Y|                N|                 0.75|\n",
            "|R3NSXBUR3O1CE8|          5|           21|         22|   Y|                N|   0.9545454545454546|\n",
            "|R13JI50KH7BTBU|          4|           29|         30|   Y|                N|   0.9666666666666667|\n",
            "|R2LWQUQ6KB5ZN5|          4|           29|         36|   Y|                Y|   0.8055555555555556|\n",
            "|R1JORBU2J7HG3H|          5|           22|         25|   Y|                N|                 0.88|\n",
            "+--------------+-----------+-------------+-----------+----+-----------------+---------------------+\n",
            "only showing top 20 rows\n",
            "\n",
            "Total number of vine participants for Pet Products with >=20 reviews: 170\n"
          ]
        }
      ]
    },
    {
      "cell_type": "code",
      "source": [
        "vine_participant_df.groupBy('star_rating').count().show()"
      ],
      "metadata": {
        "colab": {
          "base_uri": "https://localhost:8080/"
        },
        "id": "wG-o3cDcxJEz",
        "outputId": "fba7a77c-be29-42b8-a861-26873f2a499a"
      },
      "execution_count": 31,
      "outputs": [
        {
          "output_type": "stream",
          "name": "stdout",
          "text": [
            "+-----------+-----+\n",
            "|star_rating|count|\n",
            "+-----------+-----+\n",
            "|          1|    6|\n",
            "|          3|   27|\n",
            "|          5|   65|\n",
            "|          4|   56|\n",
            "|          2|   16|\n",
            "+-----------+-----+\n",
            "\n"
          ]
        }
      ]
    },
    {
      "cell_type": "code",
      "source": [
        "#Step 4\n",
        "no_vine_df = majority_helpful_votes_df.filter(col(\"vine\") >= 'N')\n",
        "no_vine_df.show()\n",
        "print(\"Total number of people who provided unpaid reviews for Pet Products with >=20 reviews:\", no_vine_df.count())"
      ],
      "metadata": {
        "colab": {
          "base_uri": "https://localhost:8080/"
        },
        "id": "rwrD7kAUpJNN",
        "outputId": "32f305f2-a501-40ee-86ab-6a5f9e4ee4b7"
      },
      "execution_count": 29,
      "outputs": [
        {
          "output_type": "stream",
          "name": "stdout",
          "text": [
            "+--------------+-----------+-------------+-----------+----+-----------------+---------------------+\n",
            "|     review_id|star_rating|helpful_votes|total_votes|vine|verified_purchase|percent_helpful_votes|\n",
            "+--------------+-----------+-------------+-----------+----+-----------------+---------------------+\n",
            "|R21KC552Y6HL8X|          1|           27|         31|   N|                Y|   0.8709677419354839|\n",
            "| RX9WC9FTIR1XR|          5|           25|         25|   N|                Y|                  1.0|\n",
            "| RGDCOU1KBHMNG|          3|           29|         31|   N|                Y|   0.9354838709677419|\n",
            "| RVTYWID2TPMMY|          2|           35|         42|   N|                Y|   0.8333333333333334|\n",
            "|R2CMPZ5VESGRLY|          4|           27|         28|   N|                Y|   0.9642857142857143|\n",
            "|R3VQPJZ54B55BA|          5|           62|         64|   N|                N|              0.96875|\n",
            "|R24QM6D7FEDZ5M|          2|           36|         43|   N|                Y|   0.8372093023255814|\n",
            "|R3A1VQ3SQDXEJ3|          5|           20|         20|   N|                Y|                  1.0|\n",
            "|  R39GSNW76GYF|          1|           20|         23|   N|                Y|   0.8695652173913043|\n",
            "| RPJLR6MFDPXXE|          5|           35|         36|   N|                Y|   0.9722222222222222|\n",
            "|R34X0ZGVB3YGYO|          5|           47|         47|   N|                Y|                  1.0|\n",
            "|R2C9O1BOV14Q0Z|          1|           62|         79|   N|                Y|   0.7848101265822784|\n",
            "| RM6ZH5J3XDNHK|          5|           79|         87|   N|                Y|   0.9080459770114943|\n",
            "|R2E363K75EMW4K|          5|           66|         69|   N|                Y|   0.9565217391304348|\n",
            "|R2VJII8VKSJHDF|          1|           24|         29|   N|                N|   0.8275862068965517|\n",
            "|R2U35Y2P27M13E|          1|           43|         45|   N|                Y|   0.9555555555555556|\n",
            "| RLMZOQL11VHBX|          5|           23|         24|   N|                Y|   0.9583333333333334|\n",
            "|R3C6CQQRRA8SYP|          5|           52|         58|   N|                Y|    0.896551724137931|\n",
            "|R3T7YOX0AEDZL3|          1|           45|         47|   N|                N|   0.9574468085106383|\n",
            "|R176V3AYS3R4HG|          5|           26|         27|   N|                N|   0.9629629629629629|\n",
            "+--------------+-----------+-------------+-----------+----+-----------------+---------------------+\n",
            "only showing top 20 rows\n",
            "\n",
            "Total number of people who provided unpaid reviews for Pet Products with >=20 reviews: 38010\n"
          ]
        }
      ]
    },
    {
      "cell_type": "code",
      "source": [
        "no_vine_df.groupBy('star_rating').count().show()"
      ],
      "metadata": {
        "colab": {
          "base_uri": "https://localhost:8080/"
        },
        "id": "rQYHgTOHxcvA",
        "outputId": "bdbeb7af-55eb-4895-e850-edbcc8061ad5"
      },
      "execution_count": 32,
      "outputs": [
        {
          "output_type": "stream",
          "name": "stdout",
          "text": [
            "+-----------+-----+\n",
            "|star_rating|count|\n",
            "+-----------+-----+\n",
            "|          1| 7575|\n",
            "|          3| 2738|\n",
            "|          5|20677|\n",
            "|          4| 4956|\n",
            "|          2| 2064|\n",
            "+-----------+-----+\n",
            "\n"
          ]
        }
      ]
    },
    {
      "cell_type": "code",
      "source": [
        "#Step 5: The counts were completed throughout the previous steps\n",
        "total_reviews=total_votes_df.count()\n",
        "total_fivestar_reviews= total_votes_df.where(col(\"star_rating\")==5).count()\n",
        "total_vine_reviews= vine_participant_df.count()\n",
        "total_no_vine_reviews= no_vine_df.count()\n",
        "total_fivestar_paid= vine_participant_df.where(col(\"star_rating\")==5).count()\n",
        "total_fivestar_unpaid= no_vine_df.where(col(\"star_rating\")==5).count()\n",
        "\n",
        "percent_5star_paid=(vine_participant_df.where(col(\"star_rating\")==5).count()/vine_participant_df.count()*100)\n",
        "percent_5star_unpaid=(no_vine_df.where(col(\"star_rating\")==5).count()/no_vine_df.count()*100)\n"
      ],
      "metadata": {
        "id": "6ld8EhIIphho"
      },
      "execution_count": 51,
      "outputs": []
    },
    {
      "cell_type": "code",
      "source": [
        "total_reviews"
      ],
      "metadata": {
        "colab": {
          "base_uri": "https://localhost:8080/"
        },
        "id": "gD5epVbi9muO",
        "outputId": "c5d52f68-c59c-476f-aafb-ea9731987901"
      },
      "execution_count": 52,
      "outputs": [
        {
          "output_type": "execute_result",
          "data": {
            "text/plain": [
              "39376"
            ]
          },
          "metadata": {},
          "execution_count": 52
        }
      ]
    },
    {
      "cell_type": "code",
      "source": [
        "total_vine_reviews"
      ],
      "metadata": {
        "colab": {
          "base_uri": "https://localhost:8080/"
        },
        "id": "ARBcZGz6M7U1",
        "outputId": "602f80d8-0ad4-444b-881b-4fb15670f3e1"
      },
      "execution_count": 56,
      "outputs": [
        {
          "output_type": "execute_result",
          "data": {
            "text/plain": [
              "170"
            ]
          },
          "metadata": {},
          "execution_count": 56
        }
      ]
    },
    {
      "cell_type": "code",
      "source": [
        "total_no_vine_reviews"
      ],
      "metadata": {
        "colab": {
          "base_uri": "https://localhost:8080/"
        },
        "id": "8roHAZ3-M_Rp",
        "outputId": "763385ed-5fc5-4cad-9239-75271304dd0a"
      },
      "execution_count": 57,
      "outputs": [
        {
          "output_type": "execute_result",
          "data": {
            "text/plain": [
              "38010"
            ]
          },
          "metadata": {},
          "execution_count": 57
        }
      ]
    },
    {
      "cell_type": "code",
      "source": [
        "total_fivestar_reviews"
      ],
      "metadata": {
        "colab": {
          "base_uri": "https://localhost:8080/"
        },
        "id": "9DsnW7SWIZL5",
        "outputId": "802b8b6a-c3e1-42f6-a78f-fe0ee7ededf1"
      },
      "execution_count": 53,
      "outputs": [
        {
          "output_type": "execute_result",
          "data": {
            "text/plain": [
              "20797"
            ]
          },
          "metadata": {},
          "execution_count": 53
        }
      ]
    },
    {
      "cell_type": "code",
      "source": [
        "total_fivestar_paid"
      ],
      "metadata": {
        "colab": {
          "base_uri": "https://localhost:8080/"
        },
        "id": "3Tm0sVcVNOUR",
        "outputId": "c849caa2-ac68-4b74-aa9c-96ed346c660b"
      },
      "execution_count": 58,
      "outputs": [
        {
          "output_type": "execute_result",
          "data": {
            "text/plain": [
              "65"
            ]
          },
          "metadata": {},
          "execution_count": 58
        }
      ]
    },
    {
      "cell_type": "code",
      "source": [
        "total_fivestar_unpaid"
      ],
      "metadata": {
        "colab": {
          "base_uri": "https://localhost:8080/"
        },
        "id": "f_WhdONbNZxz",
        "outputId": "08e6115c-a1d4-45ee-e4a3-d35e1fff6503"
      },
      "execution_count": 59,
      "outputs": [
        {
          "output_type": "execute_result",
          "data": {
            "text/plain": [
              "20677"
            ]
          },
          "metadata": {},
          "execution_count": 59
        }
      ]
    },
    {
      "cell_type": "code",
      "source": [
        "percent_5star_paid"
      ],
      "metadata": {
        "colab": {
          "base_uri": "https://localhost:8080/"
        },
        "id": "5UXD-J3jIqZD",
        "outputId": "89c031ba-5abf-4013-c9f7-4c97f97773d4"
      },
      "execution_count": 54,
      "outputs": [
        {
          "output_type": "execute_result",
          "data": {
            "text/plain": [
              "38.23529411764706"
            ]
          },
          "metadata": {},
          "execution_count": 54
        }
      ]
    },
    {
      "cell_type": "code",
      "source": [
        "percent_5star_unpaid"
      ],
      "metadata": {
        "colab": {
          "base_uri": "https://localhost:8080/"
        },
        "id": "ZmdSHRYtIsia",
        "outputId": "04f8b0b6-50f8-49b3-b424-0b0d22daa906"
      },
      "execution_count": 55,
      "outputs": [
        {
          "output_type": "execute_result",
          "data": {
            "text/plain": [
              "54.39884240989213"
            ]
          },
          "metadata": {},
          "execution_count": 55
        }
      ]
    },
    {
      "cell_type": "code",
      "source": [
        ""
      ],
      "metadata": {
        "id": "vWzxbc62IuKE"
      },
      "execution_count": null,
      "outputs": []
    }
  ]
}